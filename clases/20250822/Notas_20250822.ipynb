{
 "cells": [
  {
   "cell_type": "raw",
   "id": "ecb75b15-0f8c-418d-881c-bce77e681729",
   "metadata": {},
   "source": [
    "---\n",
    "title: Clase 2 - Virtual\n",
    "author: Victor Adrian Ortiz Solis\n",
    "format: pdf\n",
    "jupyter: python3\n",
    "date: August 22, 2025\n",
    "---"
   ]
  },
  {
   "cell_type": "markdown",
   "id": "16f435e3-1202-4ab8-9451-5447668080f7",
   "metadata": {},
   "source": [
    "# Intro a Python 3.XX"
   ]
  },
  {
   "cell_type": "markdown",
   "id": "06e9af06-5d25-42a9-b1c4-854e4819d074",
   "metadata": {},
   "source": [
    "- Introducción a variables. ¿Cómo definirlas?\n",
    "- Tipos de datos: integers, floats, arrays, dataframe, list, tuple, boolean.\n",
    "- Expresiones básicas: matemáticas, condicionales (if, elseif, else), loops (for, while, switch)."
   ]
  },
  {
   "cell_type": "code",
   "execution_count": 4,
   "id": "cc2cce35-ed46-4514-950e-155cfe13288a",
   "metadata": {},
   "outputs": [
    {
     "name": "stdout",
     "output_type": "stream",
     "text": [
      "4\n"
     ]
    }
   ],
   "source": [
    "a = 4\n",
    "print(a)"
   ]
  },
  {
   "cell_type": "code",
   "execution_count": 31,
   "id": "07fe0ca3-c712-40ac-8163-cc9c1d14c1f1",
   "metadata": {},
   "outputs": [
    {
     "name": "stdout",
     "output_type": "stream",
     "text": [
      "4.0\n",
      "4.00000\n",
      "4.00\n"
     ]
    }
   ],
   "source": [
    "print(float(a))\n",
    "print(f\"{a:.5f}\")\n",
    "print(\"{:.2f}\".format(a))"
   ]
  },
  {
   "cell_type": "code",
   "execution_count": 13,
   "id": "31879968-2ab0-43b0-a91d-0885a79f7ace",
   "metadata": {},
   "outputs": [],
   "source": [
    "b = 4.5"
   ]
  },
  {
   "cell_type": "code",
   "execution_count": 14,
   "id": "bcd59c55-a073-4fe5-8386-e29a673cb5bc",
   "metadata": {},
   "outputs": [],
   "source": [
    "lista = [2, 3, 64, 24]"
   ]
  },
  {
   "cell_type": "code",
   "execution_count": 16,
   "id": "15d967a7-8ca9-4381-8f4b-1059783b3de8",
   "metadata": {},
   "outputs": [
    {
     "name": "stdout",
     "output_type": "stream",
     "text": [
      "[2, 3, 64, 24, 4]\n"
     ]
    }
   ],
   "source": [
    "lista.append(a)\n",
    "print(lista)"
   ]
  },
  {
   "cell_type": "code",
   "execution_count": 17,
   "id": "771b6d6f-aaf1-40c5-8ef3-1329d87d4a2a",
   "metadata": {},
   "outputs": [],
   "source": [
    "lista_dos = [\"a\", \"b\"]\n",
    "lista_tres = lista + lista_dos"
   ]
  },
  {
   "cell_type": "code",
   "execution_count": 18,
   "id": "e9863ff2-f2c5-4793-92fe-3e58447740fb",
   "metadata": {},
   "outputs": [
    {
     "data": {
      "text/plain": [
       "[2, 3, 64, 24, 4, 'a', 'b']"
      ]
     },
     "execution_count": 18,
     "metadata": {},
     "output_type": "execute_result"
    }
   ],
   "source": [
    "lista_tres"
   ]
  },
  {
   "cell_type": "code",
   "execution_count": 30,
   "id": "62ddc903-25c7-41d4-88e6-50134e135fa7",
   "metadata": {},
   "outputs": [
    {
     "name": "stdout",
     "output_type": "stream",
     "text": [
      "el último elemento de la lista es '4'\n",
      "[2, 64, 4]\n"
     ]
    }
   ],
   "source": [
    "print(f\"el último elemento de la lista es '{lista[-1]}'\")\n",
    "print(lista[::2]) # salteando un elemento"
   ]
  },
  {
   "cell_type": "code",
   "execution_count": 24,
   "id": "c90b7540-55c6-42d8-99dc-5658547fa8b0",
   "metadata": {},
   "outputs": [
    {
     "name": "stdout",
     "output_type": "stream",
     "text": [
      "hay 7 elementos\n"
     ]
    }
   ],
   "source": [
    "print(f\"hay {len(lista_tres)} elementos\")"
   ]
  },
  {
   "cell_type": "code",
   "execution_count": null,
   "id": "a1bc1914-fcf9-405f-894e-454df9f5cc62",
   "metadata": {},
   "outputs": [],
   "source": []
  }
 ],
 "metadata": {
  "kernelspec": {
   "display_name": "Python [conda env:uni-py]",
   "language": "python",
   "name": "conda-env-uni-py-py"
  },
  "language_info": {
   "codemirror_mode": {
    "name": "ipython",
    "version": 3
   },
   "file_extension": ".py",
   "mimetype": "text/x-python",
   "name": "python",
   "nbconvert_exporter": "python",
   "pygments_lexer": "ipython3",
   "version": "3.13.3"
  }
 },
 "nbformat": 4,
 "nbformat_minor": 5
}
