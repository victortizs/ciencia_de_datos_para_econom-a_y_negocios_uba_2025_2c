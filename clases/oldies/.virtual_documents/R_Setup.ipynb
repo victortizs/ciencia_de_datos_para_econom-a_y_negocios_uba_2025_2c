version


IRkernel::installspec(user = TRUE, name = "uni-r", displayname = "uni-r")


x <-  c(1, 2, 3, 5, 7, 11, 13)
x * 2
#> [1]  2  4  6 10 14 22 26


y <- 3 * 4
y


ip = as.data.frame(installed.packages()[,c(1,3:4)])
ip = ip[is.na(ip$Priority),1:2,drop=FALSE]
ip



