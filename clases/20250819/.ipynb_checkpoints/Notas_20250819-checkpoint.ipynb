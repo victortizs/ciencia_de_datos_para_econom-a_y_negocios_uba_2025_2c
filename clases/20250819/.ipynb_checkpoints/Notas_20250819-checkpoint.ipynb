{
 "cells": [
  {
   "cell_type": "markdown",
   "id": "6688b506-c70d-4879-8d2c-3c9df23ee5bb",
   "metadata": {},
   "source": [
    "---\n",
    "title: \"Clase 1 - Presencial\"\n",
    "author: \"Victor Adrian Ortiz Solis\"\n",
    "format: html\n",
    "jupyter: python3\n",
    "date: \"August 19, 2025\"\n",
    "---"
   ]
  },
  {
   "cell_type": "markdown",
   "id": "dec5963e-0b4a-49b1-8f66-efbb0bf9e2cc",
   "metadata": {},
   "source": [
    "# Test\n",
    "\n",
    "Palabras que van y vienen. Acciones que quedan."
   ]
  },
  {
   "cell_type": "code",
   "execution_count": 1,
   "id": "1f002ed6-23b6-45b3-b66d-6ce667943369",
   "metadata": {},
   "outputs": [
    {
     "data": {
      "text/plain": [
       "'C:\\\\Users\\\\victo\\\\OneDrive - Económicas - UBA\\\\1_Classes\\\\DataScience4EcoNBiz\\\\Clases\\\\20250819'"
      ]
     },
     "execution_count": 1,
     "metadata": {},
     "output_type": "execute_result"
    }
   ],
   "source": [
    "pwd"
   ]
  },
  {
   "cell_type": "code",
   "execution_count": 8,
   "id": "bd28e160-f1d3-4a73-9dcb-99ea344c0d4c",
   "metadata": {},
   "outputs": [
    {
     "name": "stdout",
     "output_type": "stream",
     "text": [
      " Volume in drive C is Windows\n",
      " Volume Serial Number is F8BB-7483\n",
      "\n",
      " Directory of C:\\Users\\victo\\OneDrive - EconÃ³micas - UBA\\1_Classes\\DataScience4EcoNBiz\\Clases\\20250819\n",
      "\n",
      "08/19/2025  05:42 PM    <DIR>          .\n",
      "08/19/2025  05:50 PM    <DIR>          ..\n",
      "08/19/2025  05:40 PM    <DIR>          .ipynb_checkpoints\n",
      "08/19/2025  05:40 PM               969 Notas_20250819.ipynb\n",
      "08/19/2025  05:40 PM             9,501 Notas_20250819.pdf\n",
      "               2 File(s)         10,470 bytes\n",
      "               3 Dir(s)  143,513,522,176 bytes free\n"
     ]
    }
   ],
   "source": [
    "ls"
   ]
  },
  {
   "cell_type": "code",
   "execution_count": null,
   "id": "21825a9b-3d29-43b6-8161-d83a23067d2c",
   "metadata": {},
   "outputs": [],
   "source": []
  }
 ],
 "metadata": {
  "kernelspec": {
   "display_name": "Python [conda env:uni-py]",
   "language": "python",
   "name": "conda-env-uni-py-py"
  },
  "language_info": {
   "codemirror_mode": {
    "name": "ipython",
    "version": 3
   },
   "file_extension": ".py",
   "mimetype": "text/x-python",
   "name": "python",
   "nbconvert_exporter": "python",
   "pygments_lexer": "ipython3",
   "version": "3.13.3"
  }
 },
 "nbformat": 4,
 "nbformat_minor": 5
}
