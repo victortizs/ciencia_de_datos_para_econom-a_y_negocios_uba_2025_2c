{
 "cells": [
  {
   "cell_type": "raw",
   "id": "f735e698-ecc5-4482-ac6e-dd8550f9a06f",
   "metadata": {},
   "source": [
    "---\n",
    "title: \"Git Setup\"\n",
    "author: \"Victor Adrian\"\n",
    "format: html\n",
    "jupyter: python3\n",
    "date: \"March 20, 2025\"\n",
    "---"
   ]
  },
  {
   "cell_type": "markdown",
   "id": "82a700d0-e67c-4728-bd05-c1a7fb161065",
   "metadata": {},
   "source": [
    "# Requirements\n",
    "\n",
    "1. Git (mandatory): \n",
    "    - https://git-scm.com/downloads\n",
    "    - or https://winget.run/pkg/Git/Git\n",
    "2. GitHub CLI (mandatory):\n",
    "    - https://github.com/cli/cli#installation\n",
    "    - or https://winget.run/pkg/GitHub/cli\n",
    "3. Fork the upstream (original repo/code base).\n",
    "4. jupyterlab-git extension (optional):\n",
    "    - https://github.com/jupyterlab/jupyterlab-git\n",
    "    - `pip install --upgrade jupyterlab jupyterlab-git`\n",
    "    - `conda install -c conda-forge jupyterlab jupyterlab-git`\n",
    "    - `mamba install jupyterlab jupyterlab-git`"
   ]
  },
  {
   "cell_type": "markdown",
   "id": "d81d5503-7094-4c3a-9add-eea81a3ea874",
   "metadata": {
    "jp-MarkdownHeadingCollapsed": true
   },
   "source": [
    "# Steps\n",
    "\n",
    "- Open your preferred terminal (powershell, cmd, etc.—bash may differ);\n",
    "- run `gh auth login`, this will ask you for your credentials (token or website login);\n",
    "- run `cd [your_path/.../...]`, to where you want to storage your local repo;\n",
    "- run `gh repo clone [my_user]/[repo_name.git]`, in this case is my forked repo;\n",
    "- run `cd [your_path/to_repo]`, to get inside your local repo;\n",
    "- run `git remote -v`, this will show the origin and upstream links of your local server clone;\n",
    "- if needed run `git remote add upstream https://github.com/[upstream_user]/[upstream_repo_name.git]`;\n",
    "- run `git remote -v`, to check again the links to your local repo;\n",
    "- run `git pull upstream main` concludes the job;\n",
    "- if not updated, try with `$ git merge upstream/master`, maybe this could work.\n"
   ]
  },
  {
   "cell_type": "markdown",
   "id": "1eb2ba88-1335-48a2-9fd3-ab4e8096e79a",
   "metadata": {},
   "source": [
    "# Other stuff"
   ]
  },
  {
   "cell_type": "code",
   "execution_count": 1,
   "id": "acdfe493-fb3d-4012-9439-46b8e942d29c",
   "metadata": {},
   "outputs": [
    {
     "data": {
      "text/plain": [
       "'C:\\\\Users\\\\victo\\\\OneDrive - Económicas - UBA\\\\1_Classes\\\\DataScience4EcoNBiz'"
      ]
     },
     "execution_count": 1,
     "metadata": {},
     "output_type": "execute_result"
    }
   ],
   "source": [
    "pwd"
   ]
  },
  {
   "cell_type": "code",
   "execution_count": 9,
   "id": "07a3360d-0288-4949-a51b-51ad216c4ebb",
   "metadata": {},
   "outputs": [
    {
     "data": {
      "text/plain": [
       "'C:\\\\Users\\\\victo\\\\OneDrive - Económicas - UBA\\\\1_Classes\\\\DataScience4EcoNBiz'"
      ]
     },
     "execution_count": 9,
     "metadata": {},
     "output_type": "execute_result"
    }
   ],
   "source": [
    "import os\n",
    "# os.getcwd()\n",
    "# same as 'pwd'\n",
    "\n",
    "os.chdir(r\"C:\\Users\\victo\\OneDrive - Económicas - UBA\\1_Classes\\DataScience4EcoNBiz\")\n",
    "os.getcwd()"
   ]
  }
 ],
 "metadata": {
  "kernelspec": {
   "display_name": "uni",
   "language": "python",
   "name": "uni"
  },
  "language_info": {
   "codemirror_mode": {
    "name": "ipython",
    "version": 3
   },
   "file_extension": ".py",
   "mimetype": "text/x-python",
   "name": "python",
   "nbconvert_exporter": "python",
   "pygments_lexer": "ipython3",
   "version": "3.12.9"
  }
 },
 "nbformat": 4,
 "nbformat_minor": 5
}
